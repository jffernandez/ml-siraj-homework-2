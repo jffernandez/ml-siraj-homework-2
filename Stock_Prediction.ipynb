{
 "cells": [
  {
   "cell_type": "markdown",
   "metadata": {},
   "source": [
    "Let's go to exploring stock price prediction using three methods:\n"
   ]
  },
  {
   "cell_type": "code",
   "execution_count": 1,
   "metadata": {
    "ExecuteTime": {
     "end_time": "2019-09-12T14:04:21.013974Z",
     "start_time": "2019-09-12T14:04:20.283655Z"
    }
   },
   "outputs": [],
   "source": [
    "# Import necessary packages\n",
    "import numpy as np\n",
    "import pandas as pd\n",
    "import matplotlib.pyplot as plt\n",
    "\n",
    "from sklearn import metrics\n",
    "from sklearn.linear_model import LinearRegression, Ridge, Lasso, BayesianRidge\n",
    "from sklearn import preprocessing\n",
    "from sklearn.model_selection import train_test_split\n",
    "\n",
    "# add some magic\n",
    "%matplotlib inline"
   ]
  },
  {
   "cell_type": "markdown",
   "metadata": {},
   "source": [
    "# Download the data"
   ]
  },
  {
   "cell_type": "markdown",
   "metadata": {},
   "source": [
    "Download Delphi Technologies's stock data (previously downloaded from [https://finance.yahoo.com/quote/DLPH?p=DLPH] and saved in our server) and use Pandas to read it:"
   ]
  },
  {
   "cell_type": "code",
   "execution_count": 2,
   "metadata": {
    "ExecuteTime": {
     "end_time": "2019-09-12T14:04:21.528148Z",
     "start_time": "2019-09-12T14:04:21.015276Z"
    }
   },
   "outputs": [
    {
     "name": "stdout",
     "output_type": "stream",
     "text": [
      "--2019-09-12 14:04:21--  https://www.fenix-es.com/downloads/ml/DLPH.csv\r\n",
      "Resolving www.fenix-es.com (www.fenix-es.com)... 148.251.140.8\r\n",
      "Connecting to www.fenix-es.com (www.fenix-es.com)|148.251.140.8|:443... connected.\r\n",
      "HTTP request sent, awaiting response... 200 OK\r\n",
      "Length: 135214 (132K) [application/octet-stream]\r\n",
      "Saving to: ‘delphy.csv’\r\n",
      "\r\n",
      "\r",
      "delphy.csv            0%[                    ]       0  --.-KB/s               \r",
      "delphy.csv          100%[===================>] 132.04K  --.-KB/s    in 0.004s  \r\n",
      "\r\n",
      "2019-09-12 14:04:21 (28.8 MB/s) - ‘delphy.csv’ saved [135214/135214]\r\n",
      "\r\n"
     ]
    },
    {
     "data": {
      "text/plain": [
       "(1963, 7)"
      ]
     },
     "execution_count": 2,
     "metadata": {},
     "output_type": "execute_result"
    }
   ],
   "source": [
    "!wget -O delphy.csv https://www.fenix-es.com/downloads/ml/DLPH.csv\n",
    "data = pd.read_csv('delphy.csv')\n",
    "data.shape"
   ]
  },
  {
   "cell_type": "code",
   "execution_count": 3,
   "metadata": {
    "ExecuteTime": {
     "end_time": "2019-09-12T14:04:21.558958Z",
     "start_time": "2019-09-12T14:04:21.530113Z"
    }
   },
   "outputs": [
    {
     "data": {
      "text/html": [
       "<div>\n",
       "<style scoped>\n",
       "    .dataframe tbody tr th:only-of-type {\n",
       "        vertical-align: middle;\n",
       "    }\n",
       "\n",
       "    .dataframe tbody tr th {\n",
       "        vertical-align: top;\n",
       "    }\n",
       "\n",
       "    .dataframe thead th {\n",
       "        text-align: right;\n",
       "    }\n",
       "</style>\n",
       "<table border=\"1\" class=\"dataframe\">\n",
       "  <thead>\n",
       "    <tr style=\"text-align: right;\">\n",
       "      <th></th>\n",
       "      <th>Open</th>\n",
       "      <th>High</th>\n",
       "      <th>Low</th>\n",
       "      <th>Close</th>\n",
       "      <th>Adj Close</th>\n",
       "      <th>Volume</th>\n",
       "    </tr>\n",
       "  </thead>\n",
       "  <tbody>\n",
       "    <tr>\n",
       "      <td>count</td>\n",
       "      <td>1963.000000</td>\n",
       "      <td>1963.000000</td>\n",
       "      <td>1963.000000</td>\n",
       "      <td>1963.000000</td>\n",
       "      <td>1963.000000</td>\n",
       "      <td>1.963000e+03</td>\n",
       "    </tr>\n",
       "    <tr>\n",
       "      <td>mean</td>\n",
       "      <td>55.711526</td>\n",
       "      <td>56.329578</td>\n",
       "      <td>55.055261</td>\n",
       "      <td>55.702934</td>\n",
       "      <td>52.854917</td>\n",
       "      <td>1.999403e+06</td>\n",
       "    </tr>\n",
       "    <tr>\n",
       "      <td>std</td>\n",
       "      <td>23.088287</td>\n",
       "      <td>23.214079</td>\n",
       "      <td>22.944363</td>\n",
       "      <td>23.090539</td>\n",
       "      <td>22.152783</td>\n",
       "      <td>2.165098e+06</td>\n",
       "    </tr>\n",
       "    <tr>\n",
       "      <td>min</td>\n",
       "      <td>12.490000</td>\n",
       "      <td>13.125000</td>\n",
       "      <td>12.260000</td>\n",
       "      <td>12.520000</td>\n",
       "      <td>12.520000</td>\n",
       "      <td>3.170000e+04</td>\n",
       "    </tr>\n",
       "    <tr>\n",
       "      <td>25%</td>\n",
       "      <td>33.145000</td>\n",
       "      <td>33.729999</td>\n",
       "      <td>32.819999</td>\n",
       "      <td>33.240000</td>\n",
       "      <td>30.567955</td>\n",
       "      <td>1.171150e+06</td>\n",
       "    </tr>\n",
       "    <tr>\n",
       "      <td>50%</td>\n",
       "      <td>59.689999</td>\n",
       "      <td>60.209999</td>\n",
       "      <td>58.849998</td>\n",
       "      <td>59.439999</td>\n",
       "      <td>55.334553</td>\n",
       "      <td>1.695700e+06</td>\n",
       "    </tr>\n",
       "    <tr>\n",
       "      <td>75%</td>\n",
       "      <td>71.965000</td>\n",
       "      <td>72.820000</td>\n",
       "      <td>71.060001</td>\n",
       "      <td>71.820000</td>\n",
       "      <td>68.253872</td>\n",
       "      <td>2.366850e+06</td>\n",
       "    </tr>\n",
       "    <tr>\n",
       "      <td>max</td>\n",
       "      <td>103.739998</td>\n",
       "      <td>104.089996</td>\n",
       "      <td>102.800003</td>\n",
       "      <td>103.449997</td>\n",
       "      <td>100.869919</td>\n",
       "      <td>7.324240e+07</td>\n",
       "    </tr>\n",
       "  </tbody>\n",
       "</table>\n",
       "</div>"
      ],
      "text/plain": [
       "              Open         High          Low        Close    Adj Close  \\\n",
       "count  1963.000000  1963.000000  1963.000000  1963.000000  1963.000000   \n",
       "mean     55.711526    56.329578    55.055261    55.702934    52.854917   \n",
       "std      23.088287    23.214079    22.944363    23.090539    22.152783   \n",
       "min      12.490000    13.125000    12.260000    12.520000    12.520000   \n",
       "25%      33.145000    33.729999    32.819999    33.240000    30.567955   \n",
       "50%      59.689999    60.209999    58.849998    59.439999    55.334553   \n",
       "75%      71.965000    72.820000    71.060001    71.820000    68.253872   \n",
       "max     103.739998   104.089996   102.800003   103.449997   100.869919   \n",
       "\n",
       "             Volume  \n",
       "count  1.963000e+03  \n",
       "mean   1.999403e+06  \n",
       "std    2.165098e+06  \n",
       "min    3.170000e+04  \n",
       "25%    1.171150e+06  \n",
       "50%    1.695700e+06  \n",
       "75%    2.366850e+06  \n",
       "max    7.324240e+07  "
      ]
     },
     "execution_count": 3,
     "metadata": {},
     "output_type": "execute_result"
    }
   ],
   "source": [
    "data.describe()"
   ]
  },
  {
   "cell_type": "code",
   "execution_count": 4,
   "metadata": {
    "ExecuteTime": {
     "end_time": "2019-09-12T14:04:21.598867Z",
     "start_time": "2019-09-12T14:04:21.560403Z"
    }
   },
   "outputs": [
    {
     "data": {
      "text/html": [
       "<div>\n",
       "<style scoped>\n",
       "    .dataframe tbody tr th:only-of-type {\n",
       "        vertical-align: middle;\n",
       "    }\n",
       "\n",
       "    .dataframe tbody tr th {\n",
       "        vertical-align: top;\n",
       "    }\n",
       "\n",
       "    .dataframe thead th {\n",
       "        text-align: right;\n",
       "    }\n",
       "</style>\n",
       "<table border=\"1\" class=\"dataframe\">\n",
       "  <thead>\n",
       "    <tr style=\"text-align: right;\">\n",
       "      <th></th>\n",
       "      <th>Date</th>\n",
       "      <th>Open</th>\n",
       "      <th>High</th>\n",
       "      <th>Low</th>\n",
       "      <th>Close</th>\n",
       "      <th>Adj Close</th>\n",
       "      <th>Volume</th>\n",
       "    </tr>\n",
       "  </thead>\n",
       "  <tbody>\n",
       "    <tr>\n",
       "      <td>0</td>\n",
       "      <td>2011-11-17</td>\n",
       "      <td>21.250000</td>\n",
       "      <td>21.920000</td>\n",
       "      <td>21.250000</td>\n",
       "      <td>21.330000</td>\n",
       "      <td>19.405193</td>\n",
       "      <td>17557500</td>\n",
       "    </tr>\n",
       "    <tr>\n",
       "      <td>1</td>\n",
       "      <td>2011-11-18</td>\n",
       "      <td>21.350000</td>\n",
       "      <td>21.530001</td>\n",
       "      <td>20.750000</td>\n",
       "      <td>21.000000</td>\n",
       "      <td>19.104969</td>\n",
       "      <td>2718500</td>\n",
       "    </tr>\n",
       "    <tr>\n",
       "      <td>2</td>\n",
       "      <td>2011-11-21</td>\n",
       "      <td>21.000000</td>\n",
       "      <td>21.230000</td>\n",
       "      <td>20.020000</td>\n",
       "      <td>20.299999</td>\n",
       "      <td>18.468138</td>\n",
       "      <td>2366400</td>\n",
       "    </tr>\n",
       "    <tr>\n",
       "      <td>3</td>\n",
       "      <td>2011-11-22</td>\n",
       "      <td>20.299999</td>\n",
       "      <td>20.709999</td>\n",
       "      <td>19.650000</td>\n",
       "      <td>19.900000</td>\n",
       "      <td>18.104231</td>\n",
       "      <td>2988700</td>\n",
       "    </tr>\n",
       "    <tr>\n",
       "      <td>4</td>\n",
       "      <td>2011-11-23</td>\n",
       "      <td>19.700001</td>\n",
       "      <td>19.750000</td>\n",
       "      <td>19.219999</td>\n",
       "      <td>19.629999</td>\n",
       "      <td>17.858593</td>\n",
       "      <td>1061400</td>\n",
       "    </tr>\n",
       "  </tbody>\n",
       "</table>\n",
       "</div>"
      ],
      "text/plain": [
       "         Date       Open       High        Low      Close  Adj Close    Volume\n",
       "0  2011-11-17  21.250000  21.920000  21.250000  21.330000  19.405193  17557500\n",
       "1  2011-11-18  21.350000  21.530001  20.750000  21.000000  19.104969   2718500\n",
       "2  2011-11-21  21.000000  21.230000  20.020000  20.299999  18.468138   2366400\n",
       "3  2011-11-22  20.299999  20.709999  19.650000  19.900000  18.104231   2988700\n",
       "4  2011-11-23  19.700001  19.750000  19.219999  19.629999  17.858593   1061400"
      ]
     },
     "execution_count": 4,
     "metadata": {},
     "output_type": "execute_result"
    }
   ],
   "source": [
    "data.head()"
   ]
  },
  {
   "cell_type": "markdown",
   "metadata": {},
   "source": [
    "Let's look at the data in a graph:"
   ]
  },
  {
   "cell_type": "code",
   "execution_count": 5,
   "metadata": {
    "ExecuteTime": {
     "end_time": "2019-09-12T14:04:21.842402Z",
     "start_time": "2019-09-12T14:04:21.600042Z"
    }
   },
   "outputs": [
    {
     "data": {
      "text/plain": [
       "<matplotlib.axes._subplots.AxesSubplot at 0x7ff19b18c0f0>"
      ]
     },
     "execution_count": 5,
     "metadata": {},
     "output_type": "execute_result"
    },
    {
     "data": {
      "image/png": "[encoded data removed]",
      "text/plain": [
       "<Figure size 1152x576 with 1 Axes>"
      ]
     },
     "metadata": {
      "needs_background": "light"
     },
     "output_type": "display_data"
    }
   ],
   "source": [
    "data['Adj Close'].plot(label='DLPH', figsize=(16,8), title='Adjusted Closing Price', grid=True)"
   ]
  },
  {
   "cell_type": "markdown",
   "metadata": {},
   "source": [
    "# Prepare the data"
   ]
  },
  {
   "cell_type": "code",
   "execution_count": 6,
   "metadata": {
    "ExecuteTime": {
     "end_time": "2019-09-12T14:04:21.852419Z",
     "start_time": "2019-09-12T14:04:21.843866Z"
    }
   },
   "outputs": [
    {
     "data": {
      "text/html": [
       "<div>\n",
       "<style scoped>\n",
       "    .dataframe tbody tr th:only-of-type {\n",
       "        vertical-align: middle;\n",
       "    }\n",
       "\n",
       "    .dataframe tbody tr th {\n",
       "        vertical-align: top;\n",
       "    }\n",
       "\n",
       "    .dataframe thead th {\n",
       "        text-align: right;\n",
       "    }\n",
       "</style>\n",
       "<table border=\"1\" class=\"dataframe\">\n",
       "  <thead>\n",
       "    <tr style=\"text-align: right;\">\n",
       "      <th></th>\n",
       "      <th>Open</th>\n",
       "      <th>High</th>\n",
       "      <th>Low</th>\n",
       "      <th>Close</th>\n",
       "      <th>Adj Close</th>\n",
       "      <th>Volume</th>\n",
       "    </tr>\n",
       "    <tr>\n",
       "      <th>Date</th>\n",
       "      <th></th>\n",
       "      <th></th>\n",
       "      <th></th>\n",
       "      <th></th>\n",
       "      <th></th>\n",
       "      <th></th>\n",
       "    </tr>\n",
       "  </thead>\n",
       "  <tbody>\n",
       "    <tr>\n",
       "      <td>2011-11-17</td>\n",
       "      <td>21.250000</td>\n",
       "      <td>21.920000</td>\n",
       "      <td>21.250000</td>\n",
       "      <td>21.330000</td>\n",
       "      <td>19.405193</td>\n",
       "      <td>17557500</td>\n",
       "    </tr>\n",
       "    <tr>\n",
       "      <td>2011-11-18</td>\n",
       "      <td>21.350000</td>\n",
       "      <td>21.530001</td>\n",
       "      <td>20.750000</td>\n",
       "      <td>21.000000</td>\n",
       "      <td>19.104969</td>\n",
       "      <td>2718500</td>\n",
       "    </tr>\n",
       "    <tr>\n",
       "      <td>2011-11-21</td>\n",
       "      <td>21.000000</td>\n",
       "      <td>21.230000</td>\n",
       "      <td>20.020000</td>\n",
       "      <td>20.299999</td>\n",
       "      <td>18.468138</td>\n",
       "      <td>2366400</td>\n",
       "    </tr>\n",
       "    <tr>\n",
       "      <td>2011-11-22</td>\n",
       "      <td>20.299999</td>\n",
       "      <td>20.709999</td>\n",
       "      <td>19.650000</td>\n",
       "      <td>19.900000</td>\n",
       "      <td>18.104231</td>\n",
       "      <td>2988700</td>\n",
       "    </tr>\n",
       "    <tr>\n",
       "      <td>2011-11-23</td>\n",
       "      <td>19.700001</td>\n",
       "      <td>19.750000</td>\n",
       "      <td>19.219999</td>\n",
       "      <td>19.629999</td>\n",
       "      <td>17.858593</td>\n",
       "      <td>1061400</td>\n",
       "    </tr>\n",
       "  </tbody>\n",
       "</table>\n",
       "</div>"
      ],
      "text/plain": [
       "                 Open       High        Low      Close  Adj Close    Volume\n",
       "Date                                                                       \n",
       "2011-11-17  21.250000  21.920000  21.250000  21.330000  19.405193  17557500\n",
       "2011-11-18  21.350000  21.530001  20.750000  21.000000  19.104969   2718500\n",
       "2011-11-21  21.000000  21.230000  20.020000  20.299999  18.468138   2366400\n",
       "2011-11-22  20.299999  20.709999  19.650000  19.900000  18.104231   2988700\n",
       "2011-11-23  19.700001  19.750000  19.219999  19.629999  17.858593   1061400"
      ]
     },
     "execution_count": 6,
     "metadata": {},
     "output_type": "execute_result"
    }
   ],
   "source": [
    "data.fillna(value=-99999, inplace=True)\n",
    "data.set_index('Date', inplace=True)\n",
    "data.head()"
   ]
  },
  {
   "cell_type": "code",
   "execution_count": 7,
   "metadata": {
    "ExecuteTime": {
     "end_time": "2019-09-12T14:04:21.918721Z",
     "start_time": "2019-09-12T14:04:21.853866Z"
    }
   },
   "outputs": [],
   "source": [
    "window_size=64 # roughtly three months\n",
    "num_samples=len(data)-window_size\n",
    "# Get indices to prepare sample data\n",
    "indices=np.arange(num_samples).astype(np.int)[:,None]+np.arange(window_size+1).astype(np.int)\n",
    "# Extract sample data\n",
    "samples = data['Adj Close'].values[indices] # Create the 2D matrix of training samples\n",
    "x = samples[:,:-1] # Each row represents 64 days in the past\n",
    "y = samples[:,-1] # Each output value represents the 65th day"
   ]
  },
  {
   "cell_type": "code",
   "execution_count": 8,
   "metadata": {
    "ExecuteTime": {
     "end_time": "2019-09-12T14:04:22.005241Z",
     "start_time": "2019-09-12T14:04:21.922970Z"
    }
   },
   "outputs": [
    {
     "data": {
      "text/plain": [
       "(190,)"
      ]
     },
     "execution_count": 8,
     "metadata": {},
     "output_type": "execute_result"
    }
   ],
   "source": [
    "split_fraction=0.9\n",
    "ind_split=int(split_fraction*num_samples)\n",
    "x_train = x[:ind_split]\n",
    "y_train = y[:ind_split]\n",
    "x_test = x[ind_split:]\n",
    "y_test = y[ind_split:]\n",
    "y_test.shape"
   ]
  },
  {
   "cell_type": "markdown",
   "metadata": {},
   "source": [
    "# Processing"
   ]
  },
  {
   "cell_type": "code",
   "execution_count": 9,
   "metadata": {
    "ExecuteTime": {
     "end_time": "2019-09-12T14:04:22.118767Z",
     "start_time": "2019-09-12T14:04:22.007105Z"
    }
   },
   "outputs": [],
   "source": [
    "#Helper functions\n",
    "def get_metrics (model_data, model_pred):\n",
    "  # standard performance metrics\n",
    "  print('Mean Absolute Error:', metrics.mean_absolute_error(model_data, model_pred).round(4))  \n",
    "  print('Mean Squared Error:', metrics.mean_squared_error(model_data, model_pred).round(4))  \n",
    "  print('Root Mean Squared Error:', np.sqrt(metrics.mean_squared_error(model_data, model_pred)).round(4))\n",
    "\n",
    "    \n",
    "def get_plot (model_data, model_pred):\n",
    "  plt.scatter(model_pred, model_data, color=\"gray\")\n",
    "  plt.plot(model_data, model_data, color='red', linewidth=2)\n"
   ]
  },
  {
   "cell_type": "markdown",
   "metadata": {},
   "source": [
    "## Linear Regression"
   ]
  },
  {
   "cell_type": "code",
   "execution_count": 10,
   "metadata": {
    "ExecuteTime": {
     "end_time": "2019-09-12T14:04:22.225619Z",
     "start_time": "2019-09-12T14:04:22.122408Z"
    }
   },
   "outputs": [
    {
     "name": "stdout",
     "output_type": "stream",
     "text": [
      "Mean Absolute Error: 0.5059\n",
      "Mean Squared Error: 0.4576\n",
      "Root Mean Squared Error: 0.6765\n"
     ]
    }
   ],
   "source": [
    "model_lr=LinearRegression()\n",
    "# train model\n",
    "model_lr.fit(x_train, y_train)\n",
    "# generate predictions\n",
    "y_pred_lr=model_lr.predict(x_test)\n",
    "# evaluate predictions\n",
    "get_metrics(y_test, y_pred_lr)"
   ]
  },
  {
   "cell_type": "code",
   "execution_count": 11,
   "metadata": {
    "ExecuteTime": {
     "end_time": "2019-09-12T14:04:22.612178Z",
     "start_time": "2019-09-12T14:04:22.228575Z"
    }
   },
   "outputs": [
    {
     "data": {
      "image/png": "[encoded data removed]",
      "text/plain": [
       "<Figure size 432x288 with 1 Axes>"
      ]
     },
     "metadata": {
      "needs_background": "light"
     },
     "output_type": "display_data"
    }
   ],
   "source": [
    "# plot predictions\n",
    "get_plot(y_test, y_pred_lr)"
   ]
  },
  {
   "cell_type": "markdown",
   "metadata": {},
   "source": [
    "## Ridge Regression"
   ]
  },
  {
   "cell_type": "code",
   "execution_count": 12,
   "metadata": {
    "ExecuteTime": {
     "end_time": "2019-09-12T14:04:22.618765Z",
     "start_time": "2019-09-12T14:04:22.613282Z"
    }
   },
   "outputs": [
    {
     "name": "stdout",
     "output_type": "stream",
     "text": [
      "Mean Absolute Error: 0.5059\n",
      "Mean Squared Error: 0.4576\n",
      "Root Mean Squared Error: 0.6765\n"
     ]
    }
   ],
   "source": [
    "model_ridge = Ridge(alpha=.5)\n",
    "model_ridge.fit(x_train, y_train)\n",
    "# generate predictions\n",
    "y_pred_ridge=model_ridge.predict(x_test)\n",
    "# evaluate predictions\n",
    "get_metrics(y_test, y_pred_ridge)"
   ]
  },
  {
   "cell_type": "code",
   "execution_count": 13,
   "metadata": {
    "ExecuteTime": {
     "end_time": "2019-09-12T14:04:22.817650Z",
     "start_time": "2019-09-12T14:04:22.619798Z"
    }
   },
   "outputs": [
    {
     "data": {
      "image/png": "[encoded data removed]",
      "text/plain": [
       "<Figure size 432x288 with 1 Axes>"
      ]
     },
     "metadata": {
      "needs_background": "light"
     },
     "output_type": "display_data"
    }
   ],
   "source": [
    "# plot predictions\n",
    "get_plot(y_test, y_pred_ridge)"
   ]
  },
  {
   "cell_type": "markdown",
   "metadata": {},
   "source": [
    "## Lasso Regression"
   ]
  },
  {
   "cell_type": "code",
   "execution_count": 14,
   "metadata": {
    "ExecuteTime": {
     "end_time": "2019-09-12T14:04:22.849028Z",
     "start_time": "2019-09-12T14:04:22.818723Z"
    }
   },
   "outputs": [
    {
     "name": "stdout",
     "output_type": "stream",
     "text": [
      "Mean Absolute Error: 0.4884\n",
      "Mean Squared Error: 0.4389\n",
      "Root Mean Squared Error: 0.6625\n"
     ]
    }
   ],
   "source": [
    "model_lasso = Lasso(alpha=.1)\n",
    "model_lasso.fit(x_train, y_train)\n",
    "# generate predictions\n",
    "y_pred_lasso=model_lasso.predict(x_test)\n",
    "# evaluate predictions\n",
    "get_metrics(y_test, y_pred_lasso)"
   ]
  },
  {
   "cell_type": "code",
   "execution_count": 15,
   "metadata": {
    "ExecuteTime": {
     "end_time": "2019-09-12T14:04:23.001061Z",
     "start_time": "2019-09-12T14:04:22.850097Z"
    }
   },
   "outputs": [
    {
     "data": {
      "image/png": "[encoded data removed]",
      "text/plain": [
       "<Figure size 432x288 with 1 Axes>"
      ]
     },
     "metadata": {
      "needs_background": "light"
     },
     "output_type": "display_data"
    }
   ],
   "source": [
    "# plot predictions\n",
    "get_plot(y_test, y_pred_lasso)"
   ]
  },
  {
   "cell_type": "markdown",
   "metadata": {},
   "source": [
    "## Bayesian Ridge Regression"
   ]
  },
  {
   "cell_type": "code",
   "execution_count": 16,
   "metadata": {
    "ExecuteTime": {
     "end_time": "2019-09-12T14:04:23.011934Z",
     "start_time": "2019-09-12T14:04:23.002153Z"
    }
   },
   "outputs": [
    {
     "name": "stdout",
     "output_type": "stream",
     "text": [
      "Mean Absolute Error: 0.5077\n",
      "Mean Squared Error: 0.4629\n",
      "Root Mean Squared Error: 0.6804\n"
     ]
    }
   ],
   "source": [
    "model_br = BayesianRidge()\n",
    "# train model\n",
    "model_br.fit(x_train, y_train)\n",
    "# generate predictions\n",
    "y_pred_br = model_br.predict(x_test)\n",
    "# evaluate predictions\n",
    "get_metrics(y_test, y_pred_br)"
   ]
  },
  {
   "cell_type": "code",
   "execution_count": 17,
   "metadata": {
    "ExecuteTime": {
     "end_time": "2019-09-12T14:04:23.208843Z",
     "start_time": "2019-09-12T14:04:23.012984Z"
    }
   },
   "outputs": [
    {
     "data": {
      "image/png": "[encoded data removed]",
      "text/plain": [
       "<Figure size 432x288 with 1 Axes>"
      ]
     },
     "metadata": {
      "needs_background": "light"
     },
     "output_type": "display_data"
    }
   ],
   "source": [
    "# plot predictions\n",
    "get_plot(y_test, y_pred_br)"
   ]
  }
 ],
 "metadata": {
  "kernelspec": {
   "display_name": "Python 3",
   "language": "python",
   "name": "python3"
  },
  "language_info": {
   "codemirror_mode": {
    "name": "ipython",
    "version": 3
   },
   "file_extension": ".py",
   "mimetype": "text/x-python",
   "name": "python",
   "nbconvert_exporter": "python",
   "pygments_lexer": "ipython3",
   "version": "3.6.9"
  },
  "toc": {
   "base_numbering": 1,
   "nav_menu": {},
   "number_sections": true,
   "sideBar": true,
   "skip_h1_title": false,
   "title_cell": "Table of Contents",
   "title_sidebar": "Contents",
   "toc_cell": false,
   "toc_position": {},
   "toc_section_display": true,
   "toc_window_display": false
  },
  "varInspector": {
   "cols": {
    "lenName": 16,
    "lenType": 16,
    "lenVar": 40
   },
   "kernels_config": {
    "python": {
     "delete_cmd_postfix": "",
     "delete_cmd_prefix": "del ",
     "library": "var_list.py",
     "varRefreshCmd": "print(var_dic_list())"
    },
    "r": {
     "delete_cmd_postfix": ") ",
     "delete_cmd_prefix": "rm(",
     "library": "var_list.r",
     "varRefreshCmd": "cat(var_dic_list()) "
    }
   },
   "types_to_exclude": [
    "module",
    "function",
    "builtin_function_or_method",
    "instance",
    "_Feature"
   ],
   "window_display": false
  }
 },
 "nbformat": 4,
 "nbformat_minor": 2
}
